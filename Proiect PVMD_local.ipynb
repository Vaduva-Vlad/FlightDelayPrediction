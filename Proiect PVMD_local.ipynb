{
 "cells": [
  {
   "cell_type": "code",
   "execution_count": 1,
   "id": "f5220b88-ef96-4089-95b2-bab95fbd08ea",
   "metadata": {},
   "outputs": [
    {
     "data": {
      "text/plain": [
       "'\\nspark =  SparkSession.builder.appName(\\'Processing\\').master(\"yarn\").config(\"spark.executor.memory\",\"12g\").config(\"spark.executor.cores\",\"2\").config(\"spark.executor.instances\",\"2\").getOrCreate()\\nprint(spark)\\n'"
      ]
     },
     "execution_count": 1,
     "metadata": {},
     "output_type": "execute_result"
    }
   ],
   "source": [
    "from pyspark.sql import SparkSession\n",
    "spark =  SparkSession.builder.appName('Processing').getOrCreate()\n",
    "\"\"\"\n",
    "spark =  SparkSession.builder.appName('Processing')\\\n",
    ".master(\"yarn\")\\\n",
    ".config(\"spark.executor.memory\",\"12g\")\\\n",
    ".config(\"spark.executor.cores\",\"2\")\\\n",
    ".config(\"spark.executor.instances\",\"2\")\\\n",
    ".getOrCreate()\n",
    "print(spark)\n",
    "\"\"\""
   ]
  },
  {
   "cell_type": "code",
   "execution_count": 2,
   "id": "81f34ae4-aa46-4bb9-820a-29fda78cd385",
   "metadata": {},
   "outputs": [],
   "source": [
    "from pyspark.sql.types import StructType, StructField, StringType, IntegerType, DoubleType, DateType, TimestampType\n",
    "from pyspark.sql.functions import isnull, when, count, col, desc"
   ]
  },
  {
   "cell_type": "code",
   "execution_count": 4,
   "id": "9cf4f296-4d39-4f4d-bb21-109a03e0ef9d",
   "metadata": {},
   "outputs": [
    {
     "data": {
      "text/plain": [
       "6311871"
      ]
     },
     "execution_count": 4,
     "metadata": {},
     "output_type": "execute_result"
    }
   ],
   "source": [
    "df = spark.read.csv(\"Flights_2021_1.csv\", header=True)\n",
    "for i in range(2,13):\n",
    "    df=df.union(spark.read.csv(f\"Flights_2021_{i}.csv\",header=True))\n",
    "df.count()"
   ]
  },
  {
   "cell_type": "code",
   "execution_count": 4,
   "id": "1c858b9e-a31f-4bb2-9947-b28049a9694c",
   "metadata": {},
   "outputs": [
    {
     "name": "stdout",
     "output_type": "stream",
     "text": [
      "+-------------------------------------------------------------------+\n",
      "|count(CASE WHEN (DepDelayMinutes IS NULL) THEN DepDelayMinutes END)|\n",
      "+-------------------------------------------------------------------+\n",
      "|                                                             108413|\n",
      "+-------------------------------------------------------------------+\n",
      "\n",
      "+-------------------------------------------------------------------+\n",
      "|count(CASE WHEN (ArrDelayMinutes IS NULL) THEN ArrDelayMinutes END)|\n",
      "+-------------------------------------------------------------------+\n",
      "|                                                             126001|\n",
      "+-------------------------------------------------------------------+\n",
      "\n"
     ]
    }
   ],
   "source": [
    "#numaram valorile nule din DepDelayMinutes\n",
    "df.select(count(when(isnull(\"DepDelayMinutes\"),\"DepDelayMinutes\"))).show()\n",
    "df.select(count(when(isnull(\"ArrDelayMinutes\"),\"ArrDelayMinutes\"))).show()"
   ]
  },
  {
   "cell_type": "code",
   "execution_count": 5,
   "id": "861c18af-28db-4e70-a6ca-de0b7786b86e",
   "metadata": {},
   "outputs": [],
   "source": [
    "df=df.select(*(col(c).cast(\"float\").alias(c) for c in df.columns))"
   ]
  },
  {
   "cell_type": "code",
   "execution_count": 32,
   "id": "6b7e75fd-085c-4bb2-9427-7f126722d283",
   "metadata": {},
   "outputs": [
    {
     "name": "stdout",
     "output_type": "stream",
     "text": [
      "Year: nan\n",
      "Quarter: 0.023337430831709513\n",
      "Month: 0.024645759396537747\n",
      "DayofMonth: 0.0047066972077218\n",
      "DayOfWeek: 0.00023115613608019217\n",
      "FlightDate: nan\n",
      "Marketing_Airline_Network: nan\n",
      "Operated_or_Branded_Code_Share_Partners: nan\n",
      "DOT_ID_Marketing_Airline: -0.02481471185520768\n",
      "IATA_Code_Marketing_Airline: nan\n",
      "Flight_Number_Marketing_Airline: 0.01670329707122373\n",
      "Originally_Scheduled_Code_Share_Airline: nan\n",
      "DOT_ID_Originally_Scheduled_Code_Share_Airline: 0.023565365250150596\n",
      "IATA_Code_Originally_Scheduled_Code_Share_Airline: nan\n",
      "Flight_Num_Originally_Scheduled_Code_Share_Airline: 0.02408811176475596\n",
      "Operating_Airline : nan\n",
      "DOT_ID_Operating_Airline: -0.01806040149379832\n",
      "IATA_Code_Operating_Airline: nan\n",
      "Tail_Number: nan\n",
      "Flight_Number_Operating_Airline: 0.01669536140763225\n",
      "OriginAirportID: -0.0022179493696779717\n",
      "OriginAirportSeqID: -0.0022180443811063984\n",
      "OriginCityMarketID: -0.009431711240518182\n",
      "Origin: nan\n",
      "OriginCityName: nan\n",
      "OriginState: nan\n",
      "OriginStateFips: 0.0008312922101911207\n",
      "OriginStateName: nan\n",
      "OriginWac: 0.01607967876210794\n",
      "DestAirportID: 0.0009608783565470528\n",
      "DestAirportSeqID: 0.0009608494539948153\n",
      "DestCityMarketID: -0.004803783832090724\n",
      "Dest: nan\n",
      "DestCityName: nan\n",
      "DestState: nan\n",
      "DestStateFips: 0.005800215542164715\n",
      "DestStateName: nan\n",
      "DestWac: 0.012133035508829507\n",
      "CRSDepTime: 0.08190024054351384\n",
      "DepTime: 0.1164547025790649\n",
      "DepDelay: 0.9707182868414671\n",
      "DepDelayMinutes: 0.9751625430251804\n",
      "DepDel15: 0.49457878756823936\n",
      "DepartureDelayGroups: 0.7819673508885441\n",
      "DepTimeBlk: nan\n",
      "TaxiOut: 0.11999089016213436\n",
      "WheelsOff: 0.11220352376070257\n",
      "WheelsOn: 0.035222867417850974\n",
      "TaxiIn: 0.07788001470064598\n",
      "CRSArrTime: 0.06786864605817207\n",
      "ArrTime: 0.029558530902796996\n",
      "ArrDelay: 0.9801752737197071\n",
      "ArrDelayMinutes: 1.0\n",
      "ArrDel15: 0.5423150700728632\n",
      "ArrivalDelayGroups: 0.7954757858123017\n",
      "ArrTimeBlk: nan\n",
      "Cancelled: -0.03768838070466904\n",
      "CancellationCode: nan\n",
      "Diverted: -0.012807269604950641\n",
      "CRSElapsedTime: -0.0015801990662197018\n",
      "ActualElapsedTime: 0.03804148007459669\n",
      "AirTime: 0.01718929385470024\n",
      "Flights: nan\n",
      "Distance: 0.0016333869133339824\n",
      "DistanceGroup: 0.0011894147922909173\n",
      "CarrierDelay: 0.7086173991000332\n",
      "WeatherDelay: 0.3585812265197486\n",
      "NASDelay: 0.3208392281068253\n",
      "SecurityDelay: 0.04961363892030656\n",
      "LateAircraftDelay: 0.5787983526714061\n",
      "FirstDepTime: 0.1816251609780576\n",
      "TotalAddGTime: 0.19898156142852957\n",
      "LongestAddGTime: 0.1979982231499024\n",
      "DivAirportLandings: -0.008511920067353749\n",
      "DivReachedDest: -0.012199678675832477\n",
      "DivActualElapsedTime: -0.010563837505300936\n",
      "DivArrDelay: -0.009147793149399279\n",
      "DivDistance: -0.002654690540962117\n",
      "Div1Airport: nan\n",
      "Div1AirportID: -0.012952479957736249\n",
      "Div1AirportSeqID: -0.012952480800898475\n",
      "Div1WheelsOn: -0.012436564072713215\n",
      "Div1TotalGTime: -0.009590671265779229\n",
      "Div1LongestGTime: -0.00908177404541607\n",
      "Div1WheelsOff: -0.011509677103288986\n",
      "Div1TailNum: nan\n",
      "Div2Airport: nan\n",
      "Div2AirportID: -0.0012233533728722183\n",
      "Div2AirportSeqID: -0.0012233534427982518\n",
      "Div2WheelsOn: -0.0010470910000603775\n",
      "Div2TotalGTime: -0.0008380805908410062\n",
      "Div2LongestGTime: -0.000807026786667914\n",
      "Div2WheelsOff: -0.0007214970242813458\n",
      "Div2TailNum: nan\n",
      "Div3Airport: nan\n",
      "Div3AirportID: nan\n",
      "Div3AirportSeqID: nan\n",
      "Div3WheelsOn: nan\n",
      "Div3TotalGTime: nan\n",
      "Div3LongestGTime: nan\n",
      "Div3WheelsOff: nan\n",
      "Div3TailNum: nan\n",
      "Div4Airport: nan\n",
      "Div4AirportID: nan\n",
      "Div4AirportSeqID: nan\n",
      "Div4WheelsOn: nan\n",
      "Div4TotalGTime: nan\n",
      "Div4LongestGTime: nan\n",
      "Div4WheelsOff: nan\n",
      "Div4TailNum: nan\n",
      "Div5Airport: nan\n",
      "Div5AirportID: nan\n",
      "Div5AirportSeqID: nan\n",
      "Div5WheelsOn: nan\n",
      "Div5TotalGTime: nan\n",
      "Div5LongestGTime: nan\n",
      "Div5WheelsOff: nan\n",
      "Div5TailNum: nan\n",
      "Duplicate: nan\n",
      "_c119: nan\n"
     ]
    }
   ],
   "source": [
    "#Determinam coloanele care au cele mai mari corelatii cu coloana ArrDelay\n",
    "for column in df.columns:\n",
    "    correlation=df.stat.corr(column,\"ArrDelayMinutes\")\n",
    "    print(f\"{column}: {correlation}\")"
   ]
  },
  {
   "cell_type": "code",
   "execution_count": 6,
   "id": "d1f4cac2-c3b7-4f8e-9061-5b2e7b75be1d",
   "metadata": {},
   "outputs": [],
   "source": [
    "# Vom utiliza coloanele DepDelayMinutes,CarrierDelay,WeatherDelay,NASDelay,LateAircraftDelay\n",
    "\n",
    "from pyspark.ml.feature import Imputer\n",
    "imputer = Imputer()\n",
    "imputer.setInputCols([\"DepDelayMinutes\",\"CarrierDelay\",\"WeatherDelay\",\"NASDelay\",\"LateAircraftDelay\",\"ArrDelayMinutes\"])\n",
    "imputer.setOutputCols([\"out_DepDelayMinutes\",\"out_CarrierDelay\",\"out_WeatherDelay\",\"out_NASDelay\",\"out_LateAircraftDelay\",\"out_ArrDelayMinutes\"])\n",
    "model=imputer.fit(df)\n",
    "imputed_df=model.transform(df)"
   ]
  },
  {
   "cell_type": "code",
   "execution_count": 7,
   "id": "c494c6c5-44c2-4437-b6a6-40fc53f7e7df",
   "metadata": {},
   "outputs": [
    {
     "name": "stdout",
     "output_type": "stream",
     "text": [
      "+---------------------------------------------------------------------------+\n",
      "|count(CASE WHEN (out_DepDelayMinutes IS NULL) THEN out_DepDelayMinutes END)|\n",
      "+---------------------------------------------------------------------------+\n",
      "|                                                                          0|\n",
      "+---------------------------------------------------------------------------+\n",
      "\n",
      "+---------------------------------------------------------------------+\n",
      "|count(CASE WHEN (out_CarrierDelay IS NULL) THEN out_CarrierDelay END)|\n",
      "+---------------------------------------------------------------------+\n",
      "|                                                                    0|\n",
      "+---------------------------------------------------------------------+\n",
      "\n",
      "+---------------------------------------------------------------------+\n",
      "|count(CASE WHEN (out_WeatherDelay IS NULL) THEN out_WeatherDelay END)|\n",
      "+---------------------------------------------------------------------+\n",
      "|                                                                    0|\n",
      "+---------------------------------------------------------------------+\n",
      "\n",
      "+-------------------------------------------------------------+\n",
      "|count(CASE WHEN (out_NASDelay IS NULL) THEN out_NASDelay END)|\n",
      "+-------------------------------------------------------------+\n",
      "|                                                            0|\n",
      "+-------------------------------------------------------------+\n",
      "\n",
      "+-------------------------------------------------------------------------------+\n",
      "|count(CASE WHEN (out_LateAircraftDelay IS NULL) THEN out_LateAircraftDelay END)|\n",
      "+-------------------------------------------------------------------------------+\n",
      "|                                                                              0|\n",
      "+-------------------------------------------------------------------------------+\n",
      "\n",
      "+---------------------------------------------------------------------------+\n",
      "|count(CASE WHEN (out_ArrDelayMinutes IS NULL) THEN out_ArrDelayMinutes END)|\n",
      "+---------------------------------------------------------------------------+\n",
      "|                                                                          0|\n",
      "+---------------------------------------------------------------------------+\n",
      "\n"
     ]
    }
   ],
   "source": [
    "imputed_df.select(count(when(isnull(\"out_DepDelayMinutes\"),\"out_DepDelayMinutes\"))).show()\n",
    "imputed_df.select(count(when(isnull(\"out_CarrierDelay\"),\"out_CarrierDelay\"))).show()\n",
    "imputed_df.select(count(when(isnull(\"out_WeatherDelay\"),\"out_WeatherDelay\"))).show()\n",
    "imputed_df.select(count(when(isnull(\"out_NASDelay\"),\"out_NASDelay\"))).show()\n",
    "imputed_df.select(count(when(isnull(\"out_LateAircraftDelay\"),\"out_LateAircraftDelay\"))).show()\n",
    "imputed_df.select(count(when(isnull(\"out_ArrDelayMinutes\"),\"out_ArrDelayMinutes\"))).show()"
   ]
  },
  {
   "cell_type": "code",
   "execution_count": 7,
   "id": "154c9da2-187a-4bbb-a0a2-01330d107f62",
   "metadata": {},
   "outputs": [
    {
     "name": "stdout",
     "output_type": "stream",
     "text": [
      "+--------------------+-------------------+\n",
      "|            features|out_ArrDelayMinutes|\n",
      "+--------------------+-------------------+\n",
      "|[3.0,26.829744338...|                0.0|\n",
      "|[0.0,26.829744338...|                0.0|\n",
      "|[7.0,26.829744338...|                0.0|\n",
      "|[0.0,26.829744338...|                0.0|\n",
      "|[0.0,26.829744338...|               14.0|\n",
      "+--------------------+-------------------+\n",
      "only showing top 5 rows\n",
      "\n"
     ]
    }
   ],
   "source": [
    "from pyspark.ml.feature import VectorAssembler\n",
    "assembler = VectorAssembler(inputCols=[\"out_DepDelayMinutes\",\"out_CarrierDelay\",\"out_WeatherDelay\",\"out_NASDelay\",\"out_LateAircraftDelay\"], outputCol='features')\n",
    "output = assembler.transform(imputed_df)\n",
    "final_df=output.select('features','out_ArrDelayMinutes')\n",
    "final_df.show(5)\n",
    "train_data, test_data = final_df.randomSplit([0.7, 0.3])"
   ]
  },
  {
   "cell_type": "code",
   "execution_count": 8,
   "id": "7bf321d9-f791-427f-892a-095c73b50a8a",
   "metadata": {},
   "outputs": [
    {
     "name": "stdout",
     "output_type": "stream",
     "text": [
      "Training time (s):  10.026498556137085\n",
      "+------------------+\n",
      "|         residuals|\n",
      "+------------------+\n",
      "| 192.0718587034596|\n",
      "| 187.6539837548486|\n",
      "|186.51823932713094|\n",
      "|182.81063438530566|\n",
      "|178.35920395167503|\n",
      "| 173.8006860571531|\n",
      "|172.55579491282398|\n",
      "|170.64632601273036|\n",
      "|166.77443574758547|\n",
      "|163.53833556798173|\n",
      "|157.42554399396604|\n",
      "|157.19098585393252|\n",
      "|154.17713571066088|\n",
      "|151.29599237979085|\n",
      "| 148.3300008007115|\n",
      "|146.97673536007304|\n",
      "|144.26433713153406|\n",
      "|144.26370923714532|\n",
      "|142.95388126068397|\n",
      "|141.16054202357023|\n",
      "+------------------+\n",
      "only showing top 20 rows\n",
      "\n"
     ]
    }
   ],
   "source": [
    "from pyspark.ml.regression import LinearRegression\n",
    "from pyspark.sql import functions as F\n",
    "import time\n",
    "lr = LinearRegression(labelCol='out_ArrDelayMinutes')\n",
    "\n",
    "start=time.time()\n",
    "lr_model = lr.fit(train_data)\n",
    "end=time.time()\n",
    "duration=end-start\n",
    "print(\"Training time (s): \", duration)\n",
    "test_results = lr_model.evaluate(test_data)\n",
    "test_results.residuals.orderBy(F.col('residuals').desc()).show()"
   ]
  },
  {
   "cell_type": "code",
   "execution_count": 9,
   "id": "964f3ae5-db8c-4160-ba68-efff108fcc81",
   "metadata": {},
   "outputs": [
    {
     "data": {
      "text/plain": [
       "9.498622707319955"
      ]
     },
     "execution_count": 9,
     "metadata": {},
     "output_type": "execute_result"
    }
   ],
   "source": [
    "test_results.rootMeanSquaredError"
   ]
  },
  {
   "cell_type": "code",
   "execution_count": 10,
   "id": "137ea116-8e6e-4861-b184-4bf42eee84ef",
   "metadata": {},
   "outputs": [
    {
     "data": {
      "text/plain": [
       "0.9582704670924013"
      ]
     },
     "execution_count": 10,
     "metadata": {},
     "output_type": "execute_result"
    }
   ],
   "source": [
    "test_results.r2"
   ]
  },
  {
   "cell_type": "code",
   "execution_count": 13,
   "id": "3afc3076-1586-4ea2-8615-4ea76306bfc7",
   "metadata": {},
   "outputs": [
    {
     "name": "stdout",
     "output_type": "stream",
     "text": [
      "Mean Absolute Percentage Error (MAPE): 78.45%\n",
      "+--------------------+-------------------+------------------+-------------------------+\n",
      "|            features|out_ArrDelayMinutes|        prediction|absolute_percentage_error|\n",
      "+--------------------+-------------------+------------------+-------------------------+\n",
      "|[2100.0,12.0,0.0,...|             2081.0|2011.6235493986442|      0.03333803488772505|\n",
      "|[2031.0,10.0,0.0,...|             2033.0|1946.9596142008218|      0.04232188184907931|\n",
      "|[1948.0,550.0,0.0...|             1961.0|1881.5904279528625|      0.04049442735703088|\n",
      "|[1942.0,8.0,0.0,6...|             1948.0|1862.7501326058054|     0.043762765602769274|\n",
      "|[1917.0,1367.0,0....|             1893.0|1861.9534802955807|     0.016400697149719666|\n",
      "|[1915.0,20.0,0.0,...|             1890.0|1833.5857657543786|     0.029848801188159472|\n",
      "|[1815.0,716.0,0.0...|             1797.0| 1751.448937347494|     0.025348393240125798|\n",
      "|[1716.0,951.0,0.0...|             1712.0|1661.6159350054704|     0.029429944506150454|\n",
      "|[1710.0,1710.0,0....|             1722.0| 1675.135704281509|     0.027215038164048137|\n",
      "|[1707.0,224.0,0.0...|             1682.0|1637.5951702889117|     0.026400017664142846|\n",
      "|[1677.0,1155.0,0....|             1647.0|1626.7240143131062|     0.012310859554883922|\n",
      "|[1660.0,28.0,0.0,...|             1623.0|1587.9234633925716|     0.021612160571428438|\n",
      "|[1649.0,1589.0,0....|             1623.0|1608.5198408909018|     0.008921847879912612|\n",
      "|[1646.0,1646.0,0....|             1671.0|1616.9013034678144|      0.03237504280801054|\n",
      "|[1634.0,1634.0,0....|             1646.0|1600.5743138899513|      0.02759762218107453|\n",
      "|[1606.0,39.0,0.0,...|             1605.0|1538.1453747223723|      0.04165397213559361|\n",
      "|[1581.0,0.0,1581....|             1655.0|1610.6250969058071|     0.026812630268394477|\n",
      "|[1578.0,1529.0,0....|             1618.0|1554.4832175241572|     0.039256355053054866|\n",
      "|[1564.0,401.0,0.0...|             1557.0|1504.5347751905704|      0.03369635504780323|\n",
      "|[1559.0,0.0,0.0,1...|             1560.0|1492.5956066003225|      0.04320794448697274|\n",
      "+--------------------+-------------------+------------------+-------------------------+\n",
      "only showing top 20 rows\n",
      "\n"
     ]
    }
   ],
   "source": [
    "from pyspark.sql.functions import col, abs\n",
    "\n",
    "predictions = lr_model.transform(test_data)\n",
    "predictions = predictions.withColumn(\"absolute_percentage_error\", abs((col(\"out_ArrDelayMinutes\") - col(\"prediction\")) / col(\"out_ArrDelayMinutes\")))\n",
    "mape = predictions.selectExpr(\"avg(absolute_percentage_error) as mape\").collect()[0][\"mape\"] * 100\n",
    "\n",
    "print(f\"Mean Absolute Percentage Error (MAPE): {mape:.2f}%\")\n",
    "predictions.orderBy(desc(\"features\")).show()"
   ]
  },
  {
   "cell_type": "code",
   "execution_count": 19,
   "id": "0bd840a0-6816-4552-bf16-9143961a152b",
   "metadata": {},
   "outputs": [
    {
     "name": "stdout",
     "output_type": "stream",
     "text": [
      "Training time (s): 143.1710855960846\n",
      "+--------------------+-------------------+------------------+\n",
      "|            features|out_ArrDelayMinutes|        prediction|\n",
      "+--------------------+-------------------+------------------+\n",
      "|      (5,[0],[48.0])|               34.0|30.886524822695037|\n",
      "|      (5,[0],[87.0])|               65.0| 56.75824175824176|\n",
      "|(5,[0,1],[17.0,16...|               16.0|16.839423076923076|\n",
      "|(5,[0,1],[17.0,17...|               17.0|16.839423076923076|\n",
      "|(5,[0,1],[20.0,16...|               16.0|17.666858457997698|\n",
      "|(5,[0,1],[20.0,20...|               20.0|17.666858457997698|\n",
      "|(5,[0,1],[22.0,18...|               18.0|18.465199590583417|\n",
      "|(5,[0,1],[23.0,17...|               17.0|18.777673104097975|\n",
      "|(5,[0,1],[23.0,23...|               23.0|18.777673104097975|\n",
      "|(5,[0,1],[25.0,17...|               17.0|19.418328383538395|\n",
      "|(5,[0,1],[28.0,15...|               15.0|20.456113399902243|\n",
      "|(5,[0,1],[28.0,17...|               17.0|20.456113399902243|\n",
      "|(5,[0,1],[28.0,27...|               27.0|              27.0|\n",
      "|(5,[0,1],[29.0,18...|               18.0|20.456113399902243|\n",
      "|(5,[0,1],[30.0,18...|               18.0|20.456113399902243|\n",
      "|(5,[0,1],[30.0,20...|               20.0|20.456113399902243|\n",
      "|(5,[0,1],[30.0,22...|               22.0|20.456113399902243|\n",
      "|(5,[0,1],[30.0,28...|               28.0|              28.0|\n",
      "|(5,[0,1],[30.0,29...|               29.0|              29.0|\n",
      "|(5,[0,1],[31.0,28...|               28.0|              28.0|\n",
      "|(5,[0,1],[31.0,28...|               28.0|              28.0|\n",
      "|(5,[0,1],[32.0,21...|               21.0|20.456113399902243|\n",
      "|(5,[0,1],[32.0,25...|               25.0|20.456113399902243|\n",
      "|(5,[0,1],[32.0,29...|               29.0|              29.0|\n",
      "|(5,[0,1],[32.0,29...|               29.0|              29.0|\n",
      "|(5,[0,1],[33.0,27...|               27.0|              27.0|\n",
      "|(5,[0,1],[34.0,18...|               18.0|21.610762179595994|\n",
      "|(5,[0,1],[34.0,31...|               31.0|31.003028467595396|\n",
      "|(5,[0,1],[37.0,33...|               33.0|              33.0|\n",
      "|(5,[0,1],[37.0,34...|               34.0| 34.00746733042937|\n",
      "|(5,[0,1],[37.0,37...|               37.0|              37.0|\n",
      "|(5,[0,1],[39.0,16...|               16.0|21.610762179595994|\n",
      "|(5,[0,1],[39.0,24...|               24.0|21.610762179595994|\n",
      "|(5,[0,1],[39.0,29...|               29.0|              29.0|\n",
      "|(5,[0,1],[39.0,30...|               30.0|30.004993757802747|\n",
      "|(5,[0,1],[40.0,20...|               20.0|21.610762179595994|\n",
      "|(5,[0,1],[40.0,25...|               25.0|21.610762179595994|\n",
      "|(5,[0,1],[41.0,24...|               24.0|21.610762179595994|\n",
      "|(5,[0,1],[41.0,28...|               28.0|              28.0|\n",
      "|(5,[0,1],[41.0,33...|               33.0|              33.0|\n",
      "|(5,[0,1],[42.0,39...|               39.0| 39.00825763831544|\n",
      "|(5,[0,1],[42.0,40...|               40.0|              40.0|\n",
      "|(5,[0,1],[44.0,37...|               37.0|              37.0|\n",
      "|(5,[0,1],[45.0,35...|               35.0|              35.0|\n",
      "|(5,[0,1],[47.0,46...|               46.0|              46.0|\n",
      "|(5,[0,1],[48.0,37...|               37.0|              37.0|\n",
      "|(5,[0,1],[51.0,47...|               47.0|              47.0|\n",
      "|(5,[0,1],[52.0,47...|               47.0|              47.0|\n",
      "|(5,[0,1],[53.0,34...|               34.0| 34.00746733042937|\n",
      "|(5,[0,1],[54.0,30...|               30.0| 30.46451612903226|\n",
      "+--------------------+-------------------+------------------+\n",
      "only showing top 50 rows\n",
      "\n"
     ]
    }
   ],
   "source": [
    "# Decision Tree\n",
    "\n",
    "from pyspark.ml.regression import DecisionTreeRegressor\n",
    "from pyspark.ml.feature import Imputer\n",
    "import time\n",
    "\n",
    "dt = DecisionTreeRegressor(featuresCol=\"features\", labelCol=\"out_ArrDelayMinutes\",maxDepth=30)\n",
    "\n",
    "start=time.time()\n",
    "model = dt.fit(train_data)\n",
    "end=time.time()\n",
    "duration=end-start\n",
    "print(\"Training time (s):\",duration)\n",
    "predictions = model.transform(test_data)\n",
    "predictions.show(50)"
   ]
  },
  {
   "cell_type": "code",
   "execution_count": 20,
   "id": "0d679d48-9b43-4c11-a87e-4be51d647bf0",
   "metadata": {},
   "outputs": [
    {
     "name": "stdout",
     "output_type": "stream",
     "text": [
      "+--------------------+-------------------+------------------+\n",
      "|            features|out_ArrDelayMinutes|        prediction|\n",
      "+--------------------+-------------------+------------------+\n",
      "|[2100.0,12.0,0.0,...|             2081.0|146.30797824116047|\n",
      "|[2031.0,10.0,0.0,...|             2033.0|161.92549019607844|\n",
      "|[1948.0,550.0,0.0...|             1961.0| 333.1707317073171|\n",
      "|[1942.0,8.0,0.0,6...|             1948.0|163.73460537727667|\n",
      "|[1917.0,1367.0,0....|             1893.0| 300.6959420289855|\n",
      "|[1915.0,20.0,0.0,...|             1890.0| 152.8556854410202|\n",
      "|[1815.0,716.0,0.0...|             1797.0| 300.6959420289855|\n",
      "|[1716.0,951.0,0.0...|             1712.0| 300.6959420289855|\n",
      "|[1710.0,1710.0,0....|             1722.0|  214.991452991453|\n",
      "|[1707.0,224.0,0.0...|             1682.0| 300.6959420289855|\n",
      "|[1677.0,1155.0,0....|             1647.0| 300.6959420289855|\n",
      "|[1660.0,28.0,0.0,...|             1623.0|149.53061224489795|\n",
      "|[1649.0,1589.0,0....|             1623.0|164.88505747126436|\n",
      "|[1646.0,1646.0,0....|             1671.0| 274.1621621621622|\n",
      "|[1634.0,1634.0,0....|             1646.0|  214.991452991453|\n",
      "|[1606.0,39.0,0.0,...|             1605.0|            158.36|\n",
      "|[1581.0,0.0,1581....|             1655.0|251.01119402985074|\n",
      "|[1578.0,1529.0,0....|             1618.0|             171.0|\n",
      "|[1564.0,401.0,0.0...|             1557.0| 300.6959420289855|\n",
      "|[1559.0,0.0,0.0,1...|             1560.0|158.59228187919464|\n",
      "+--------------------+-------------------+------------------+\n",
      "only showing top 20 rows\n",
      "\n",
      "Mean Absolute Percentage Error (MAPE): 40.57%\n"
     ]
    }
   ],
   "source": [
    "predictions.orderBy(desc(\"features\")).show()\n",
    "predictions = predictions.withColumn(\"absolute_percentage_error\", abs((col(\"out_ArrDelayMinutes\") - col(\"prediction\")) / col(\"out_ArrDelayMinutes\")))\n",
    "mape = predictions.selectExpr(\"avg(absolute_percentage_error) as mape\").collect()[0][\"mape\"] * 100\n",
    "\n",
    "print(f\"Mean Absolute Percentage Error (MAPE): {mape:.2f}%\")"
   ]
  },
  {
   "cell_type": "code",
   "execution_count": 21,
   "id": "7955bb30-c981-4bce-9d43-a12341d6f122",
   "metadata": {},
   "outputs": [
    {
     "name": "stdout",
     "output_type": "stream",
     "text": [
      "r2: 0.6025596400755497\n",
      "rmse: 29.31398487695787\n"
     ]
    }
   ],
   "source": [
    "from pyspark.ml.evaluation import RegressionEvaluator\n",
    "evaluator = RegressionEvaluator(labelCol='out_ArrDelayMinutes', predictionCol='prediction')\n",
    "r2 = evaluator.evaluate(predictions, {evaluator.metricName: 'r2'})\n",
    "rmse = evaluator.evaluate(predictions, {evaluator.metricName: 'rmse'})\n",
    "print(\"r2:\",r2)\n",
    "print(\"rmse:\",rmse)"
   ]
  },
  {
   "cell_type": "code",
   "execution_count": null,
   "id": "4f1959b1-5110-4342-aa0e-3f04ab5fd8a2",
   "metadata": {},
   "outputs": [],
   "source": []
  }
 ],
 "metadata": {
  "kernelspec": {
   "display_name": "Python 3 (ipykernel)",
   "language": "python",
   "name": "python3"
  },
  "language_info": {
   "codemirror_mode": {
    "name": "ipython",
    "version": 3
   },
   "file_extension": ".py",
   "mimetype": "text/x-python",
   "name": "python",
   "nbconvert_exporter": "python",
   "pygments_lexer": "ipython3",
   "version": "3.11.6"
  }
 },
 "nbformat": 4,
 "nbformat_minor": 5
}
